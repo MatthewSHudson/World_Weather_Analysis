{
 "cells": [
  {
   "cell_type": "code",
   "execution_count": 1,
   "metadata": {},
   "outputs": [],
   "source": [
    "# Import the dependencies.\n",
    "import pandas as pd\n",
    "import gmaps\n",
    "import requests\n",
    "# Import the API key.\n",
    "from config import g_key\n",
    "import ipywidgets as widgets"
   ]
  },
  {
   "cell_type": "code",
   "execution_count": 2,
   "metadata": {},
   "outputs": [],
   "source": [
    "# Store the CSV you saved created in part one into a DataFrame.\n",
    "city_data_df = pd.read_csv(\"weather_data/cities.csv\")\n",
    "#city_data_df.head()"
   ]
  },
  {
   "cell_type": "code",
   "execution_count": 3,
   "metadata": {},
   "outputs": [
    {
     "data": {
      "text/plain": [
       "City_ID         int64\n",
       "City           object\n",
       "Country        object\n",
       "Date           object\n",
       "Lat           float64\n",
       "Lng           float64\n",
       "Max Temp      float64\n",
       "Humidity        int64\n",
       "Cloudiness      int64\n",
       "Wind Speed    float64\n",
       "dtype: object"
      ]
     },
     "execution_count": 3,
     "metadata": {},
     "output_type": "execute_result"
    }
   ],
   "source": [
    "city_data_df.dtypes"
   ]
  },
  {
   "cell_type": "code",
   "execution_count": 4,
   "metadata": {},
   "outputs": [],
   "source": [
    "gmaps.configure(api_key=g_key)"
   ]
  },
  {
   "cell_type": "code",
   "execution_count": 5,
   "metadata": {},
   "outputs": [
    {
     "data": {
      "application/vnd.jupyter.widget-view+json": {
       "model_id": "392be33898bd482f967944dafbb4075b",
       "version_major": 2,
       "version_minor": 0
      },
      "text/plain": [
       "Figure(layout=FigureLayout(height='420px'))"
      ]
     },
     "metadata": {},
     "output_type": "display_data"
    }
   ],
   "source": [
    "#Get the latitidue and longitude of each city\n",
    "locations = city_data_df[[\"Lat\",\"Lng\"]]\n",
    "#set any negative temperatures to 0F (shouldn't it be better to use Kelvin which is an absolute temp?)\n",
    "city_data_df[\"Max Temp\"] = city_data_df[\"Max Temp\"].clip(lower=0)\n",
    "#Get the max temperatures of each city\n",
    "max_temp = city_data_df[\"Max Temp\"]\n",
    "# assign the gmaps figure\n",
    "fig = gmaps.figure(center=(30.0, 31.0), zoom_level=1.5)\n",
    "# assign the heatmap\n",
    "heatmap_layer = gmaps.heatmap_layer(locations, weights=max_temp, dissipating = False, \n",
    "                                    max_intensity=300,point_radius=4)\n",
    "# Add the heatmap layer\n",
    "fig.add_layer(heatmap_layer)\n",
    "fig"
   ]
  },
  {
   "cell_type": "code",
   "execution_count": 6,
   "metadata": {},
   "outputs": [
    {
     "data": {
      "application/vnd.jupyter.widget-view+json": {
       "model_id": "b8d346e286fc4ac6b36943cec6410efd",
       "version_major": 2,
       "version_minor": 0
      },
      "text/plain": [
       "Figure(layout=FigureLayout(height='420px'))"
      ]
     },
     "metadata": {},
     "output_type": "display_data"
    }
   ],
   "source": [
    "# Heatmap of percent humidity\n",
    "locations = city_data_df[[\"Lat\", \"Lng\"]]\n",
    "humidity = city_data_df[\"Humidity\"]\n",
    "fig = gmaps.figure(center=(30.0, 31.0), zoom_level=1.5)\n",
    "heat_layer = gmaps.heatmap_layer(locations, weights=humidity, dissipating=False, max_intensity=300, point_radius=4)\n",
    "\n",
    "fig.add_layer(heat_layer)\n",
    "# Call the figure to plot the data.\n",
    "fig"
   ]
  },
  {
   "cell_type": "code",
   "execution_count": 7,
   "metadata": {},
   "outputs": [
    {
     "data": {
      "application/vnd.jupyter.widget-view+json": {
       "model_id": "150e216f4c7e441cb090073ca8b8bfeb",
       "version_major": 2,
       "version_minor": 0
      },
      "text/plain": [
       "Figure(layout=FigureLayout(height='420px'))"
      ]
     },
     "metadata": {},
     "output_type": "display_data"
    }
   ],
   "source": [
    "# Heatmap of percent humidity\n",
    "locations = city_data_df[[\"Lat\", \"Lng\"]]\n",
    "clouds = city_data_df[\"Cloudiness\"]\n",
    "fig = gmaps.figure(center=(30.0, 31.0), zoom_level=1.5)\n",
    "heat_layer = gmaps.heatmap_layer(locations, weights=clouds, dissipating=False, max_intensity=300, point_radius=4)\n",
    "\n",
    "fig.add_layer(heat_layer)\n",
    "# Call the figure to plot the data.\n",
    "fig"
   ]
  },
  {
   "cell_type": "code",
   "execution_count": 8,
   "metadata": {},
   "outputs": [
    {
     "data": {
      "application/vnd.jupyter.widget-view+json": {
       "model_id": "37d1be29e0a541039fadbb3721b96890",
       "version_major": 2,
       "version_minor": 0
      },
      "text/plain": [
       "Figure(layout=FigureLayout(height='420px'))"
      ]
     },
     "metadata": {},
     "output_type": "display_data"
    }
   ],
   "source": [
    "# Heatmap of percent humidity\n",
    "locations = city_data_df[[\"Lat\", \"Lng\"]]\n",
    "winds = city_data_df[\"Wind Speed\"]\n",
    "fig = gmaps.figure(center=(30.0, 31.0), zoom_level=1.5)\n",
    "heat_layer = gmaps.heatmap_layer(locations, weights=winds, dissipating=False, max_intensity=300, point_radius=4)\n",
    "\n",
    "fig.add_layer(heat_layer)\n",
    "# Call the figure to plot the data.\n",
    "fig"
   ]
  },
  {
   "cell_type": "code",
   "execution_count": 9,
   "metadata": {},
   "outputs": [
    {
     "name": "stdout",
     "output_type": "stream",
     "text": [
      "What is the minimum temperature you would like for your trip? 70\n",
      "What is the maximum temperature you would like for your trip? 89\n"
     ]
    }
   ],
   "source": [
    "min_temp = float(input(\"What is the minimum temperature you would like for your trip? \"))\n",
    "max_temp = float(input(\"What is the maximum temperature you would like for your trip? \"))"
   ]
  },
  {
   "cell_type": "code",
   "execution_count": 10,
   "metadata": {},
   "outputs": [
    {
     "data": {
      "text/html": [
       "<div>\n",
       "<style scoped>\n",
       "    .dataframe tbody tr th:only-of-type {\n",
       "        vertical-align: middle;\n",
       "    }\n",
       "\n",
       "    .dataframe tbody tr th {\n",
       "        vertical-align: top;\n",
       "    }\n",
       "\n",
       "    .dataframe thead th {\n",
       "        text-align: right;\n",
       "    }\n",
       "</style>\n",
       "<table border=\"1\" class=\"dataframe\">\n",
       "  <thead>\n",
       "    <tr style=\"text-align: right;\">\n",
       "      <th></th>\n",
       "      <th>City_ID</th>\n",
       "      <th>City</th>\n",
       "      <th>Country</th>\n",
       "      <th>Date</th>\n",
       "      <th>Lat</th>\n",
       "      <th>Lng</th>\n",
       "      <th>Max Temp</th>\n",
       "      <th>Humidity</th>\n",
       "      <th>Cloudiness</th>\n",
       "      <th>Wind Speed</th>\n",
       "    </tr>\n",
       "  </thead>\n",
       "  <tbody>\n",
       "    <tr>\n",
       "      <th>2</th>\n",
       "      <td>2</td>\n",
       "      <td>Minas</td>\n",
       "      <td>UY</td>\n",
       "      <td>2021-04-05 18:53:01</td>\n",
       "      <td>-34.3759</td>\n",
       "      <td>-55.2377</td>\n",
       "      <td>81.00</td>\n",
       "      <td>61</td>\n",
       "      <td>75</td>\n",
       "      <td>6.91</td>\n",
       "    </tr>\n",
       "    <tr>\n",
       "      <th>4</th>\n",
       "      <td>4</td>\n",
       "      <td>Port Blair</td>\n",
       "      <td>IN</td>\n",
       "      <td>2021-04-05 18:53:02</td>\n",
       "      <td>11.6667</td>\n",
       "      <td>92.7500</td>\n",
       "      <td>80.69</td>\n",
       "      <td>76</td>\n",
       "      <td>41</td>\n",
       "      <td>4.29</td>\n",
       "    </tr>\n",
       "    <tr>\n",
       "      <th>6</th>\n",
       "      <td>6</td>\n",
       "      <td>Vavoua</td>\n",
       "      <td>CI</td>\n",
       "      <td>2021-04-05 18:53:03</td>\n",
       "      <td>7.3819</td>\n",
       "      <td>-6.4778</td>\n",
       "      <td>84.16</td>\n",
       "      <td>56</td>\n",
       "      <td>50</td>\n",
       "      <td>3.83</td>\n",
       "    </tr>\n",
       "    <tr>\n",
       "      <th>8</th>\n",
       "      <td>8</td>\n",
       "      <td>Georgetown</td>\n",
       "      <td>MY</td>\n",
       "      <td>2021-04-05 18:53:03</td>\n",
       "      <td>5.4112</td>\n",
       "      <td>100.3354</td>\n",
       "      <td>82.99</td>\n",
       "      <td>83</td>\n",
       "      <td>40</td>\n",
       "      <td>2.30</td>\n",
       "    </tr>\n",
       "    <tr>\n",
       "      <th>11</th>\n",
       "      <td>11</td>\n",
       "      <td>Irituia</td>\n",
       "      <td>BR</td>\n",
       "      <td>2021-04-05 18:53:04</td>\n",
       "      <td>-1.7711</td>\n",
       "      <td>-47.4381</td>\n",
       "      <td>83.34</td>\n",
       "      <td>75</td>\n",
       "      <td>99</td>\n",
       "      <td>2.48</td>\n",
       "    </tr>\n",
       "  </tbody>\n",
       "</table>\n",
       "</div>"
      ],
      "text/plain": [
       "    City_ID        City Country                 Date      Lat       Lng  \\\n",
       "2         2       Minas      UY  2021-04-05 18:53:01 -34.3759  -55.2377   \n",
       "4         4  Port Blair      IN  2021-04-05 18:53:02  11.6667   92.7500   \n",
       "6         6      Vavoua      CI  2021-04-05 18:53:03   7.3819   -6.4778   \n",
       "8         8  Georgetown      MY  2021-04-05 18:53:03   5.4112  100.3354   \n",
       "11       11     Irituia      BR  2021-04-05 18:53:04  -1.7711  -47.4381   \n",
       "\n",
       "    Max Temp  Humidity  Cloudiness  Wind Speed  \n",
       "2      81.00        61          75        6.91  \n",
       "4      80.69        76          41        4.29  \n",
       "6      84.16        56          50        3.83  \n",
       "8      82.99        83          40        2.30  \n",
       "11     83.34        75          99        2.48  "
      ]
     },
     "execution_count": 10,
     "metadata": {},
     "output_type": "execute_result"
    }
   ],
   "source": [
    "temp_range_df = city_data_df.loc[(city_data_df[\"Max Temp\"] <= max_temp) &\n",
    "                                (city_data_df[\"Max Temp\"] >= min_temp)]\n",
    "temp_range_df = temp_range_df.dropna()\n",
    "temp_range_df.head(5)"
   ]
  },
  {
   "cell_type": "code",
   "execution_count": 11,
   "metadata": {},
   "outputs": [
    {
     "name": "stdout",
     "output_type": "stream",
     "text": [
      "<class 'pandas.core.frame.DataFrame'>\n",
      "Int64Index: 254 entries, 2 to 569\n",
      "Data columns (total 10 columns):\n",
      " #   Column      Non-Null Count  Dtype  \n",
      "---  ------      --------------  -----  \n",
      " 0   City_ID     254 non-null    int64  \n",
      " 1   City        254 non-null    object \n",
      " 2   Country     254 non-null    object \n",
      " 3   Date        254 non-null    object \n",
      " 4   Lat         254 non-null    float64\n",
      " 5   Lng         254 non-null    float64\n",
      " 6   Max Temp    254 non-null    float64\n",
      " 7   Humidity    254 non-null    int64  \n",
      " 8   Cloudiness  254 non-null    int64  \n",
      " 9   Wind Speed  254 non-null    float64\n",
      "dtypes: float64(4), int64(3), object(3)\n",
      "memory usage: 21.8+ KB\n"
     ]
    }
   ],
   "source": [
    "temp_range_df.info()"
   ]
  },
  {
   "cell_type": "code",
   "execution_count": 12,
   "metadata": {},
   "outputs": [
    {
     "data": {
      "text/html": [
       "<div>\n",
       "<style scoped>\n",
       "    .dataframe tbody tr th:only-of-type {\n",
       "        vertical-align: middle;\n",
       "    }\n",
       "\n",
       "    .dataframe tbody tr th {\n",
       "        vertical-align: top;\n",
       "    }\n",
       "\n",
       "    .dataframe thead th {\n",
       "        text-align: right;\n",
       "    }\n",
       "</style>\n",
       "<table border=\"1\" class=\"dataframe\">\n",
       "  <thead>\n",
       "    <tr style=\"text-align: right;\">\n",
       "      <th></th>\n",
       "      <th>City</th>\n",
       "      <th>Country</th>\n",
       "      <th>Max Temp</th>\n",
       "      <th>Lat</th>\n",
       "      <th>Lng</th>\n",
       "      <th>Hotel Name</th>\n",
       "    </tr>\n",
       "  </thead>\n",
       "  <tbody>\n",
       "    <tr>\n",
       "      <th>2</th>\n",
       "      <td>Minas</td>\n",
       "      <td>UY</td>\n",
       "      <td>81.00</td>\n",
       "      <td>-34.3759</td>\n",
       "      <td>-55.2377</td>\n",
       "      <td></td>\n",
       "    </tr>\n",
       "    <tr>\n",
       "      <th>4</th>\n",
       "      <td>Port Blair</td>\n",
       "      <td>IN</td>\n",
       "      <td>80.69</td>\n",
       "      <td>11.6667</td>\n",
       "      <td>92.7500</td>\n",
       "      <td></td>\n",
       "    </tr>\n",
       "    <tr>\n",
       "      <th>6</th>\n",
       "      <td>Vavoua</td>\n",
       "      <td>CI</td>\n",
       "      <td>84.16</td>\n",
       "      <td>7.3819</td>\n",
       "      <td>-6.4778</td>\n",
       "      <td></td>\n",
       "    </tr>\n",
       "    <tr>\n",
       "      <th>8</th>\n",
       "      <td>Georgetown</td>\n",
       "      <td>MY</td>\n",
       "      <td>82.99</td>\n",
       "      <td>5.4112</td>\n",
       "      <td>100.3354</td>\n",
       "      <td></td>\n",
       "    </tr>\n",
       "    <tr>\n",
       "      <th>11</th>\n",
       "      <td>Irituia</td>\n",
       "      <td>BR</td>\n",
       "      <td>83.34</td>\n",
       "      <td>-1.7711</td>\n",
       "      <td>-47.4381</td>\n",
       "      <td></td>\n",
       "    </tr>\n",
       "    <tr>\n",
       "      <th>12</th>\n",
       "      <td>Betare Oya</td>\n",
       "      <td>CM</td>\n",
       "      <td>80.82</td>\n",
       "      <td>5.6000</td>\n",
       "      <td>14.0833</td>\n",
       "      <td></td>\n",
       "    </tr>\n",
       "    <tr>\n",
       "      <th>13</th>\n",
       "      <td>Castro</td>\n",
       "      <td>BR</td>\n",
       "      <td>73.20</td>\n",
       "      <td>-24.7911</td>\n",
       "      <td>-50.0119</td>\n",
       "      <td></td>\n",
       "    </tr>\n",
       "    <tr>\n",
       "      <th>14</th>\n",
       "      <td>Sao Joao Da Barra</td>\n",
       "      <td>BR</td>\n",
       "      <td>80.60</td>\n",
       "      <td>-21.6403</td>\n",
       "      <td>-41.0511</td>\n",
       "      <td></td>\n",
       "    </tr>\n",
       "    <tr>\n",
       "      <th>15</th>\n",
       "      <td>Mahebourg</td>\n",
       "      <td>MU</td>\n",
       "      <td>78.80</td>\n",
       "      <td>-20.4081</td>\n",
       "      <td>57.7000</td>\n",
       "      <td></td>\n",
       "    </tr>\n",
       "    <tr>\n",
       "      <th>16</th>\n",
       "      <td>Pisco</td>\n",
       "      <td>PE</td>\n",
       "      <td>77.00</td>\n",
       "      <td>-13.7000</td>\n",
       "      <td>-76.2167</td>\n",
       "      <td></td>\n",
       "    </tr>\n",
       "  </tbody>\n",
       "</table>\n",
       "</div>"
      ],
      "text/plain": [
       "                 City Country  Max Temp      Lat       Lng Hotel Name\n",
       "2               Minas      UY     81.00 -34.3759  -55.2377           \n",
       "4          Port Blair      IN     80.69  11.6667   92.7500           \n",
       "6              Vavoua      CI     84.16   7.3819   -6.4778           \n",
       "8          Georgetown      MY     82.99   5.4112  100.3354           \n",
       "11            Irituia      BR     83.34  -1.7711  -47.4381           \n",
       "12         Betare Oya      CM     80.82   5.6000   14.0833           \n",
       "13             Castro      BR     73.20 -24.7911  -50.0119           \n",
       "14  Sao Joao Da Barra      BR     80.60 -21.6403  -41.0511           \n",
       "15          Mahebourg      MU     78.80 -20.4081   57.7000           \n",
       "16              Pisco      PE     77.00 -13.7000  -76.2167           "
      ]
     },
     "execution_count": 12,
     "metadata": {},
     "output_type": "execute_result"
    }
   ],
   "source": [
    "hotel_df = temp_range_df[[\"City\", \"Country\", \"Max Temp\", \"Lat\", \"Lng\"]].copy()\n",
    "hotel_df[\"Hotel Name\"] = \"\"\n",
    "hotel_df.head(10)"
   ]
  },
  {
   "cell_type": "code",
   "execution_count": 21,
   "metadata": {},
   "outputs": [
    {
     "name": "stdout",
     "output_type": "stream",
     "text": [
      "Hotel not found... skipping\n",
      "Hotel not found... skipping\n",
      "Hotel not found... skipping\n",
      "Hotel not found... skipping\n",
      "Hotel not found... skipping\n",
      "Hotel not found... skipping\n",
      "Hotel not found... skipping\n",
      "Hotel not found... skipping\n",
      "Hotel not found... skipping\n",
      "Hotel not found... skipping\n",
      "Hotel not found... skipping\n",
      "Hotel not found... skipping\n",
      "Hotel not found... skipping\n",
      "Hotel not found... skipping\n",
      "Hotel not found... skipping\n",
      "Hotel not found... skipping\n",
      "Hotel not found... skipping\n",
      "Hotel not found... skipping\n"
     ]
    },
    {
     "data": {
      "text/html": [
       "<div>\n",
       "<style scoped>\n",
       "    .dataframe tbody tr th:only-of-type {\n",
       "        vertical-align: middle;\n",
       "    }\n",
       "\n",
       "    .dataframe tbody tr th {\n",
       "        vertical-align: top;\n",
       "    }\n",
       "\n",
       "    .dataframe thead th {\n",
       "        text-align: right;\n",
       "    }\n",
       "</style>\n",
       "<table border=\"1\" class=\"dataframe\">\n",
       "  <thead>\n",
       "    <tr style=\"text-align: right;\">\n",
       "      <th></th>\n",
       "      <th>City</th>\n",
       "      <th>Country</th>\n",
       "      <th>Max Temp</th>\n",
       "      <th>Lat</th>\n",
       "      <th>Lng</th>\n",
       "      <th>Hotel Name</th>\n",
       "    </tr>\n",
       "  </thead>\n",
       "  <tbody>\n",
       "    <tr>\n",
       "      <th>2</th>\n",
       "      <td>Minas</td>\n",
       "      <td>UY</td>\n",
       "      <td>81.00</td>\n",
       "      <td>-34.3759</td>\n",
       "      <td>-55.2377</td>\n",
       "      <td>Hotel Minas</td>\n",
       "    </tr>\n",
       "    <tr>\n",
       "      <th>4</th>\n",
       "      <td>Port Blair</td>\n",
       "      <td>IN</td>\n",
       "      <td>80.69</td>\n",
       "      <td>11.6667</td>\n",
       "      <td>92.7500</td>\n",
       "      <td>Welcomhotel Bay Island Port Blair</td>\n",
       "    </tr>\n",
       "    <tr>\n",
       "      <th>6</th>\n",
       "      <td>Vavoua</td>\n",
       "      <td>CI</td>\n",
       "      <td>84.16</td>\n",
       "      <td>7.3819</td>\n",
       "      <td>-6.4778</td>\n",
       "      <td>Hotel Le Peuple</td>\n",
       "    </tr>\n",
       "    <tr>\n",
       "      <th>8</th>\n",
       "      <td>Georgetown</td>\n",
       "      <td>MY</td>\n",
       "      <td>82.99</td>\n",
       "      <td>5.4112</td>\n",
       "      <td>100.3354</td>\n",
       "      <td>Cititel Penang</td>\n",
       "    </tr>\n",
       "    <tr>\n",
       "      <th>11</th>\n",
       "      <td>Irituia</td>\n",
       "      <td>BR</td>\n",
       "      <td>83.34</td>\n",
       "      <td>-1.7711</td>\n",
       "      <td>-47.4381</td>\n",
       "      <td>Hotel Irituia</td>\n",
       "    </tr>\n",
       "  </tbody>\n",
       "</table>\n",
       "</div>"
      ],
      "text/plain": [
       "          City Country  Max Temp      Lat       Lng  \\\n",
       "2        Minas      UY     81.00 -34.3759  -55.2377   \n",
       "4   Port Blair      IN     80.69  11.6667   92.7500   \n",
       "6       Vavoua      CI     84.16   7.3819   -6.4778   \n",
       "8   Georgetown      MY     82.99   5.4112  100.3354   \n",
       "11     Irituia      BR     83.34  -1.7711  -47.4381   \n",
       "\n",
       "                           Hotel Name  \n",
       "2                         Hotel Minas  \n",
       "4   Welcomhotel Bay Island Port Blair  \n",
       "6                     Hotel Le Peuple  \n",
       "8                      Cititel Penang  \n",
       "11                      Hotel Irituia  "
      ]
     },
     "execution_count": 21,
     "metadata": {},
     "output_type": "execute_result"
    }
   ],
   "source": [
    "def find_hotel(row) :\n",
    "    lat = row[\"Lat\"]\n",
    "    lng = row[\"Lng\"]\n",
    "    base_url = \"https://maps.googleapis.com/maps/api/place/nearbysearch/json\"\n",
    "    params = {\n",
    "        \"radius\": 5000,\n",
    "        \"types\": \"lodging\",\n",
    "        \"key\": g_key,\n",
    "        \"location\": f\"{lat},{lng}\"}\n",
    "    r = requests.get(base_url,params).json()\n",
    "    try :\n",
    "        row[\"Hotel Name\"] = r[\"results\"][0][\"name\"]\n",
    "    except IndexError:\n",
    "        print(\"Hotel not found... skipping\")\n",
    "    return row\n",
    "\n",
    "hotel_df = hotel_df.apply(find_hotel,axis=1)\n",
    "hotel_df.head()"
   ]
  },
  {
   "cell_type": "code",
   "execution_count": 22,
   "metadata": {},
   "outputs": [],
   "source": [
    "info_box_template = \"\"\"\n",
    "<dl>\n",
    "<dt>Hotel Name</dt><dd>{Hotel Name}</dd>\n",
    "<dt>City</dt><dd>{City}</dd>\n",
    "<dt>Country</dt><dd>{Country}</dd>\n",
    "<dt>Max Temp</dt><dd>{Max Temp} °F</dd>\n",
    "</dl>\n",
    "\"\"\"\n",
    "hotel_info = [info_box_template.format(**row) for index, row in hotel_df.iterrows()]\n"
   ]
  },
  {
   "cell_type": "code",
   "execution_count": 23,
   "metadata": {},
   "outputs": [
    {
     "data": {
      "application/vnd.jupyter.widget-view+json": {
       "model_id": "af6b2fd33d8a44fe89fcb64755716c33",
       "version_major": 2,
       "version_minor": 0
      },
      "text/plain": [
       "Figure(layout=FigureLayout(height='420px'))"
      ]
     },
     "metadata": {},
     "output_type": "display_data"
    }
   ],
   "source": [
    "# Add a heatmap of temperature for the vacation spots and a pop-up marker for each city.\n",
    "locations = hotel_df[[\"Lat\", \"Lng\"]]\n",
    "max_temp = hotel_df[\"Max Temp\"]\n",
    "fig = gmaps.figure(center=(30.0, 31.0), zoom_level=1.5)\n",
    "heat_layer = gmaps.heatmap_layer(locations, weights=max_temp,dissipating=False,\n",
    "             max_intensity=300, point_radius=4)\n",
    "marker_layer = gmaps.marker_layer(locations, info_box_content=hotel_info)\n",
    "fig.add_layer(heat_layer)\n",
    "fig.add_layer(marker_layer)\n",
    "\n",
    "# Call the figure to plot the data.\n",
    "fig"
   ]
  },
  {
   "cell_type": "code",
   "execution_count": null,
   "metadata": {},
   "outputs": [],
   "source": []
  }
 ],
 "metadata": {
  "kernelspec": {
   "display_name": "py376",
   "language": "python",
   "name": "py376"
  },
  "language_info": {
   "codemirror_mode": {
    "name": "ipython",
    "version": 3
   },
   "file_extension": ".py",
   "mimetype": "text/x-python",
   "name": "python",
   "nbconvert_exporter": "python",
   "pygments_lexer": "ipython3",
   "version": "3.7.6"
  }
 },
 "nbformat": 4,
 "nbformat_minor": 4
}
